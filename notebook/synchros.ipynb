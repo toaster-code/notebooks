{
 "cells": [
  {
   "cell_type": "markdown",
   "metadata": {},
   "source": [
    "# A notebook that simulates a synchromachine (TX CX)"
   ]
  },
  {
   "cell_type": "code",
   "execution_count": 3,
   "metadata": {},
   "outputs": [
    {
     "data": {
      "image/png": "",
      "text/plain": [
       "<Figure size 1200x1200 with 3 Axes>"
      ]
     },
     "metadata": {},
     "output_type": "display_data"
    }
   ],
   "source": [
    "import numpy as np\n",
    "import matplotlib.pyplot as plt\n",
    "\n",
    "# Parameters\n",
    "f_e = 60  # Frequency of the input excitation in Hz\n",
    "f_m = 55  # Frequency of rotation of the motor (may be different from excitation)\n",
    "tf = 3/f_e  # Duration of the signal in seconds\n",
    "fs = 20 * f_e # Sampling frequency in Hz\n",
    "dt = 1 / fs # Time step\n",
    "N = int(tf / dt) # Number of samples\n",
    "w_e = 2 * np.pi * f_e # Angular frequency\n",
    "w_m = 2 * np.pi * f_m # Angular frequency\n",
    "t = np.arange(N) * dt # Time array\n",
    "\n",
    "# Single-phase input signal\n",
    "single_phase = np.real(np.exp(1j*w_e * t))\n",
    "\n",
    "# Phase shifts (120 degrees = 2 * pi / 3 radians)\n",
    "phi = np.radians(180)\n",
    "phase_shifts = +1j*(np.array([0, 2*np.pi/3, 4*np.pi/3]) + phi)\n",
    "# phase_shifts = np.array([0, -2 * np.pi / 3, -4 * np.pi / 3]) + 2 * np.pi\n",
    "\n",
    "# Generate three-phase outputs\n",
    "V1 = np.exp(1j*w_e * t + phase_shifts[0])\n",
    "V2 = np.exp(1j*w_e * t + phase_shifts[1])\n",
    "V3 = np.exp(1j*w_e * t + phase_shifts[2])\n",
    "\n",
    "# Combine into a matrix\n",
    "V_Y = np.array([V1, V2, V3])\n",
    "\n",
    "# Define the delta transformation matrix\n",
    "T = np.array([\n",
    "    [-1, 1, 0],\n",
    "    [0, -1, 1],\n",
    "    [1, 0, -1]\n",
    "])\n",
    "\n",
    "# Calculate the delta voltages\n",
    "V_Delta = T @ V_Y\n",
    "\n",
    "# Plot the signals\n",
    "fig, (ax1, ax2, ax3) = plt.subplots(3, 1, figsize=(12, 12), sharex=True)\n",
    "\n",
    "# Plot the single-phase voltage\n",
    "ax1.plot(t, single_phase, '.-', label='Single-Phase Voltage $V_s$')\n",
    "ax1.set_title('Single-Phase Voltage')\n",
    "ax1.set_ylabel('Amplitude')\n",
    "ax1.legend(loc='upper right')\n",
    "\n",
    "# Plot the three-phase Y voltages\n",
    "for i in range(3):\n",
    "    ilabel = rf\"$V_{{{i+1}0}}$\"\n",
    "    ax2.plot(t, np.real(V_Y[i, :]), '.-', label=ilabel)\n",
    "ax2.set_title(r'$V_Y$ (Three-Phase Voltages)')\n",
    "ax2.set_ylabel('Amplitude')\n",
    "ax2.legend(loc='upper right')\n",
    "\n",
    "# Plot the Delta-phase voltages\n",
    "for i in range(3):\n",
    "    ilabel = rf\"$V_{{{(i % 3)+1}{((i+1) % 3)+1}}}$\"\n",
    "    ax3.plot(t, np.real(V_Delta[i, :]), '.-', label=ilabel)\n",
    "ax3.set_title(r'$V_\\Delta$ (Delta Voltages)')\n",
    "ax3.set_xlabel('Time (s)')\n",
    "ax3.set_ylabel('Amplitude')\n",
    "ax3.legend(loc='upper right')\n",
    "\n",
    "plt.tight_layout()\n",
    "plt.show()\n"
   ]
  }
 ],
 "metadata": {
  "kernelspec": {
   "display_name": ".venv",
   "language": "python",
   "name": "python3"
  },
  "language_info": {
   "codemirror_mode": {
    "name": "ipython",
    "version": 3
   },
   "file_extension": ".py",
   "mimetype": "text/x-python",
   "name": "python",
   "nbconvert_exporter": "python",
   "pygments_lexer": "ipython3",
   "version": "3.12.3"
  }
 },
 "nbformat": 4,
 "nbformat_minor": 2
}
